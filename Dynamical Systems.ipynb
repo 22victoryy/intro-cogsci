{
 "cells": [
  {
   "cell_type": "markdown",
   "metadata": {},
   "source": [
    "# DYNAMICAL SYSTEMS"
   ]
  },
  {
   "cell_type": "markdown",
   "metadata": {},
   "source": [
    "* All the ways of thinking about causation have been reduced to one notion\n",
    "  *  Effective or Efficient Causation\n",
    "     * One failure stikes another and keeps going on.\n",
    "     * There is an event that precedes another event, where the dependent variable affects the independent variable\n",
    "     * A→ B → C\n",
    "* Explanation of the “cause”\n",
    "  * C is caused by B\n",
    "  * But what causes A??\n",
    "    * It is not god\n",
    "    * It is a linear model, which is great\n",
    "      * Prevents circular explanation\n",
    "* Kant focuses on the biological understandings which aristotle was good at\n",
    "  * He sees a tree. Where does the tree gets his energy for its leaves?\n",
    "  * The sun; Self organising\n",
    "  * Tracing the lines of explanation of the above(circular causation), Circulatory explanation is not a cause of science living thing\n",
    "  * If the system is circulatory, explaining it will lead us outside of the scientific world\n",
    "  * The above argument is technically valid, but the argument as a whole is incomplete\n",
    "  * Dynamic Systems allows us to trace out circular causation without falling into circular explanation\n",
    "  * We don’t want to lose the formal causation by Aristotle\n",
    "  * This way, Kant’s premises must change unless biology isn’t a science\n",
    "\n"
   ]
  },
  {
   "cell_type": "markdown",
   "metadata": {},
   "source": [
    "### One-line Summary:  \n",
    "The way how dynamical systems work is through effective/efficient causation. One cuses another and keeps going on, where independent and dependent variables are present. For example, envuronments, the sun are self organising. Through circulatory causation, we will be able to avoid circulatory explanation."
   ]
  },
  {
   "cell_type": "code",
   "execution_count": null,
   "metadata": {},
   "outputs": [],
   "source": []
  },
  {
   "cell_type": "code",
   "execution_count": null,
   "metadata": {},
   "outputs": [],
   "source": []
  }
 ],
 "metadata": {
  "kernelspec": {
   "display_name": "Python 3",
   "language": "python",
   "name": "python3"
  },
  "language_info": {
   "codemirror_mode": {
    "name": "ipython",
    "version": 3
   },
   "file_extension": ".py",
   "mimetype": "text/x-python",
   "name": "python",
   "nbconvert_exporter": "python",
   "pygments_lexer": "ipython3",
   "version": "3.6.2"
  }
 },
 "nbformat": 4,
 "nbformat_minor": 2
}
