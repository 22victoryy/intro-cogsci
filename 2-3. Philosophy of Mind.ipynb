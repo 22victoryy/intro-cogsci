{
 "cells": [
  {
   "cell_type": "markdown",
   "metadata": {},
   "source": [
    "## The role of philosophy of mind in cognitive science ##"
   ]
  },
  {
   "cell_type": "markdown",
   "metadata": {},
   "source": [
    "### The role of philosophy of mind in cognitive science ###"
   ]
  },
  {
   "cell_type": "markdown",
   "metadata": {},
   "source": [
    "* Descartes\n",
    "    * "
   ]
  },
  {
   "cell_type": "markdown",
   "metadata": {},
   "source": []
  },
  {
   "cell_type": "markdown",
   "metadata": {},
   "source": []
  },
  {
   "cell_type": "markdown",
   "metadata": {},
   "source": [
    "### Summary ###\n",
    "Mind has meaning purpose qualia normativity and truth. Matter has extension intertia energy and forces. Because mind and matter have opposite properties, they are two different things and therefore cannot coexist. This is cartesian dualism\n",
    "\n",
    "Since mind and body(matter) are two different things, we can possibly say that both have different essencs. However, this is not definitive as we do not have the criterion of the cogniitive, and therefore cannot assess law like generations of what minds are made to determine its own essence.\n",
    "\n",
    "Intelligent design is a pseudoscientific argument for the existence of God, presented by its proponents as \"an evidence-based scientific theory about life's origins rather than natural selection. Although this was accepted previouslyy, it is not accepted due to the mind body problem. If mind and body are different substances with different essences, the way how they interact cannot be explained.\n",
    "\n",
    "Occasionalism, where occasionally your mind and body interact does not make sense either because you cannot explain god in terms of science. There is a huge gap in betweem.\n",
    "\n",
    "Causastion and correlation are not distinguishable and therefore cannot be determined - Leibniz\n",
    "\n",
    "Property dualism is an argument by anlogy where all the brain properties arre not mental properties but all of them create mental properties(they emerge). However, this has a major problem for sometings are not explicable. O + h20 is explicable but physical to mental is not.\n",
    "Also, Materialistic things are explainable with matter but physical things contain other factors that are not materialistic, such as constants, laws, forces..etc.\n",
    "\n",
    "Elemental property dualism is going through the very bottom of the ontology, basing it into the very fundamental elements. This deals with metaphysical elements, rather than chemical.\n",
    "\n",
    "Mind and brain are not equal. However, this could cause an interpretation fallacy, and an intersionalist fallacy. Clark Kent is superman but we could end up differentiating them.\n",
    "\n",
    "Physicalism is the idea of solving problems by changing the meanings of things to what accounts on Earth, to avoid dualism. However, there are pseudo questions that make categorical mistakes. changing the arguments require arguments in the process, according to Ryle. According to him, the whole cartesian position is created by a series of categorical mistakes.\n",
    "\n",
    "Trait versus state causes a huge problem. A trait is rather a characterstic, such that salt is soluable. A state is rather when you insert salt in water, it dissolves.\n",
    "Another problem is that mental terms are shorthand ways of describing behaviour, which assumes that philosophical grammar is unproblematic. if mental terms are refeerring to disposition, the impirtance of explaining the mind and brain doe snot arise. This does not give a us a definitive set of a if-then relationship, since theyre unlimited.\n",
    "Third, we have a problem of dischargment of heterogeneous dispositional statements. This is, I cannot be able to produce the full translation in between mental state and behaviour, for they both are two different things.\n",
    "\n",
    "Misleading due to psychological research being collapsed in psycholigical behaviourism."
   ]
  },
  {
   "cell_type": "markdown",
   "metadata": {},
   "source": [
    "### Central State Materialism ###"
   ]
  },
  {
   "cell_type": "markdown",
   "metadata": {},
   "source": []
  },
  {
   "cell_type": "markdown",
   "metadata": {},
   "source": [
    "### Summary ###\n",
    "Identity does not work because as we reduce nonphysical theories into physical theories which could theoretically be reduced to neuroscience, the concept of multiple realisibility is undermined. For example. Pain is subjective, and we may reduce it to b fibres firing. However, in a dog, it could be c fibres, which contradicts the fact that pain is multiply realisable."
   ]
  }
 ],
 "metadata": {
  "kernelspec": {
   "display_name": "Python 3",
   "language": "python",
   "name": "python3"
  },
  "language_info": {
   "codemirror_mode": {
    "name": "ipython",
    "version": 3
   },
   "file_extension": ".py",
   "mimetype": "text/x-python",
   "name": "python",
   "nbconvert_exporter": "python",
   "pygments_lexer": "ipython3",
   "version": "3.6.2"
  }
 },
 "nbformat": 4,
 "nbformat_minor": 2
}
