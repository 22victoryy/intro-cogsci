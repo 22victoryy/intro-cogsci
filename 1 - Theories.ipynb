{
 "cells": [
  {
   "cell_type": "markdown",
   "metadata": {},
   "source": [
    "# Theories #"
   ]
  },
  {
   "cell_type": "markdown",
   "metadata": {},
   "source": [
    "### Categorisation ###"
   ]
  },
  {
   "cell_type": "markdown",
   "metadata": {},
   "source": [
    "* Categorisation, if, literally interpreted, is putting certain elements together which are seemingly related to form an association. This is one of the ways how people classify things in real life, in order to organise and perceive the world around them. \n",
    "* However, even if we do classify elements together, form an association, and come up with a final product of so called a “theory”, if we may not be able to analyse, formalise, and mechanise, this process is strictly homuncular, which we call a naturalistic imperative. \n",
    "* To give an example of what this is, we can look at the following three cases. For instance, first, let us look at an example, of Descartes. \n",
    "    * This mathematician came up with the cartesian coordinates in the field of mathematics. How this mathematician figured this method, was by looking at the corner of the ceiling where flies where flying in directions. \n",
    "    * He was able to visualise this image, and he formalised a way how to graph certain things, which is what we know nowadays as Cartesian coordinates. \n",
    "* Another scientist, which is a good example of mechanisation, is Alan Turing.\n",
    "    * Turing thought that a time will come where computers will be a substitute of humans, which nowaday exists as for example, bots. In the future, maybe 30% of the humans cannot tell in between computers and humans. \n",
    "    * After thinking this, Turing formalised and mechanised how essentially computers work, in terms of producing intelligence, what we know as today, “Artificial Intelligence”. Now, here comes a Turing test, in which we test a machine’s ability of intelligence that is not distinguishable in between humans and machines.\n",
    "*  A third figure that we must look into, is a philosopher names Thales, who contributed in terms of analysing a phenomenon. For instance, this philosopher came up with three properties: \n",
    "    * 1. All is the moist, where everything is made of water which emphasises the fundamental building block of everything in this world\n",
    "    * 2. The lodestone has psyche(is moist), which states that everything moves on its own and us humans and even animals share the same properties \n",
    "    * 3. Everything is filled with Gods, which states that even a small little detail is worth looking into.\n",
    "* These properties sums up the whole definition of how to analyse a theory, in which we must break every element down in a theory of a phenomenon in order for us to completely interpret and understand it.\n"
   ]
  },
  {
   "cell_type": "markdown",
   "metadata": {},
   "source": [
    "### Convergent ###"
   ]
  },
  {
   "cell_type": "markdown",
   "metadata": {},
   "source": [
    "* A lot of ideas that lead to one\n",
    "* Spider of plausibility\n",
    "    * We can see this as a mindmap, where many ideas come together and create something new → links with microtheory of concepts\n",
    "* Smith → culture affects categorisation, which is why we may not simply judge what one should be in this category or the other\n",
    "    * Reciprocal relationship, if A→ B, then B→ A\n",
    "    * Novel connection: math → What happens when a function has a defined domain? If the function is resolvable in terms of that specific point? We call this the function converges, and has a specific value. → little weak"
   ]
  },
  {
   "cell_type": "markdown",
   "metadata": {},
   "source": [
    "### Double Dissociation ###"
   ]
  },
  {
   "cell_type": "markdown",
   "metadata": {},
   "source": [
    "* Experimental design: Causation and Correlation \n",
    "    * Smith proposing similarity drive categorization (casual) Intended to distinguish causation from correlation \n",
    "    * All kinds of correlation but we need to be able to intervene more effective with causation\n",
    "    * If changing one variable doesn’t change another there is a reason to believe they have no causation\n",
    "    * Can be similar but not in the same category \n",
    "    * Assessment of similarity and whether or not they judge something to be in a category or not by changing"
   ]
  },
  {
   "cell_type": "markdown",
   "metadata": {},
   "source": [
    "### Classical Theory of Concepts ###"
   ]
  },
  {
   "cell_type": "markdown",
   "metadata": {},
   "source": [
    "* A concept is a mental definition (≠ dictionary definition, bc they are synonyms) \n",
    "* Mental definition: A feature list which is the set of both sufficient an necessary conditions \n",
    "    * ESSENCE - the complete set of sufficient and necessary condition \n",
    "* 1) The meaning of the concept can be captured by a conjunctive list of features\n",
    "    * Conjunctive = “and” “but” \n",
    "* 2) Has to bottom up to atomic features \n",
    "    * When you break it down you have to be able to break it down into something that can’t be broken down anymore \n",
    "* 3) Each feature is individually necessary and all is jointly sufficient \n",
    "    * If you hit all of the features you’re a member of the category \n",
    "* 4) What is and is not a member is clearly define \n",
    "    * Be able to give a very clear definition \n",
    "* 5) All of the members of the category are equally representative \n",
    "    * Anything is equally good examples \n",
    "* 6) When you organize these thing into a hierarchy (taxonomic) the subordinate definition include the definition of the superordinate \n",
    "    * Superordinate: Over category ex: animal \n",
    "    * Subordinate: Beneath, other categories ex: mammals \n",
    "    * The subordinate has to include the feature list of the superordinate \n",
    "* You’re a part of this process or not \n",
    "    * Answers the problem, which features is the relevant ones \n",
    "        * Explains why we can find things synonymous \n",
    "    * Due to how the atomic pieces (primitives) form together it explains our productivity \n",
    "        * Amazing how many sentences we can spontaneously utter and understand \n",
    "            * We do not presume the way that we understand the sentence but instead we can use the pieces of the sentence and put it together to understand it \n",
    "    * Finite limit of rules, primitives \n",
    "    * Compositionality:  Combine series and ideas \n",
    "* Problems\n",
    "    * Lack of essence \n",
    "        * Concept seem to differ to different people \n",
    "        * It seems a lot of things aren’t easily definable \n",
    "        * 1) Lots of our concept don’t seem to want to fit into a easy feature list \n",
    "            * Ex: games \n",
    "            * \"Family Resemblance” -  (proposed)\n",
    "            * Look alike, not identical - overlapping lack of traits \n",
    "        * 2) Every member is equally good \n",
    "            * If you actually ask people to verify they will have a preference \n",
    "        * 3) You get other problems with membership \n",
    "            * Intransitivity (not being able to follow through) \n",
    "                * Car Seats-> chairs -> furniture\n",
    "        * Classical theory of concepts is wrong\n",
    "            * "
   ]
  },
  {
   "cell_type": "markdown",
   "metadata": {},
   "source": []
  },
  {
   "cell_type": "markdown",
   "metadata": {},
   "source": []
  }
 ],
 "metadata": {
  "kernelspec": {
   "display_name": "Python 3",
   "language": "python",
   "name": "python3"
  },
  "language_info": {
   "codemirror_mode": {
    "name": "ipython",
    "version": 3
   },
   "file_extension": ".py",
   "mimetype": "text/x-python",
   "name": "python",
   "nbconvert_exporter": "python",
   "pygments_lexer": "ipython3",
   "version": "3.6.2"
  }
 },
 "nbformat": 4,
 "nbformat_minor": 2
}
