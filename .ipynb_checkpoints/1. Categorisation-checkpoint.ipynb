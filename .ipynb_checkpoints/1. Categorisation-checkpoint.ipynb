{
 "cells": [
  {
   "cell_type": "markdown",
   "metadata": {},
   "source": [
    "# Theories #"
   ]
  },
  {
   "cell_type": "markdown",
   "metadata": {},
   "source": [
    "### Categorisation ###"
   ]
  },
  {
   "cell_type": "markdown",
   "metadata": {},
   "source": [
    "* Categorisation, if, literally interpreted, is putting certain elements together which are seemingly related to form an association. This is one of the ways how people classify things in real life, in order to organise and perceive the world around them. \n",
    "* However, even if we do classify elements together, form an association, and come up with a final product of so called a “theory”, if we may not be able to analyse, formalise, and mechanise, this process is strictly homuncular, which we call a naturalistic imperative. \n",
    "* To give an example of what this is, we can look at the following three cases. For instance, first, let us look at an example, of Descartes. \n",
    "    * This mathematician came up with the cartesian coordinates in the field of mathematics. How this mathematician figured this method, was by looking at the corner of the ceiling where flies where flying in directions. \n",
    "    * He was able to visualise this image, and he formalised a way how to graph certain things, which is what we know nowadays as Cartesian coordinates. \n",
    "* Another scientist, which is a good example of mechanisation, is Alan Turing.\n",
    "    * Turing thought that a time will come where computers will be a substitute of humans, which nowaday exists as for example, bots. In the future, maybe 30% of the humans cannot tell in between computers and humans. \n",
    "    * After thinking this, Turing formalised and mechanised how essentially computers work, in terms of producing intelligence, what we know as today, “Artificial Intelligence”. Now, here comes a Turing test, in which we test a machine’s ability of intelligence that is not distinguishable in between humans and machines.\n",
    "*  A third figure that we must look into, is a philosopher names Thales, who contributed in terms of analysing a phenomenon. For instance, this philosopher came up with three properties: \n",
    "    * 1. All is the moist, where everything is made of water which emphasises the fundamental building block of everything in this world\n",
    "    * 2. The lodestone has psyche(is moist), which states that everything moves on its own and us humans and even animals share the same properties \n",
    "    * 3. Everything is filled with Gods, which states that even a small little detail is worth looking into.\n",
    "* These properties sums up the whole definition of how to analyse a theory, in which we must break every element down in a theory of a phenomenon in order for us to completely interpret and understand it.\n"
   ]
  },
  {
   "cell_type": "markdown",
   "metadata": {},
   "source": [
    "### Convergent ###"
   ]
  },
  {
   "cell_type": "markdown",
   "metadata": {},
   "source": [
    "* A lot of ideas that lead to one\n",
    "* Spider of plausibility\n",
    "    * We can see this as a mindmap, where many ideas come together and create something new → links with microtheory of concepts\n",
    "* Smith → culture affects categorisation, which is why we may not simply judge what one should be in this category or the other\n",
    "    * Reciprocal relationship, if A→ B, then B→ A\n",
    "    * Novel connection: math → What happens when a function has a defined domain? If the function is resolvable in terms of that specific point? We call this the function converges, and has a specific value. → little weak"
   ]
  },
  {
   "cell_type": "markdown",
   "metadata": {},
   "source": [
    "### Double Dissociation ###"
   ]
  },
  {
   "cell_type": "markdown",
   "metadata": {},
   "source": [
    "* Experimental design: Causation and Correlation \n",
    "    * Smith proposing similarity drive categorization (casual) Intended to distinguish causation from correlation \n",
    "    * All kinds of correlation but we need to be able to intervene more effective with causation\n",
    "    * If changing one variable doesn’t change another there is a reason to believe they have no causation\n",
    "    * Can be similar but not in the same category \n",
    "    * Assessment of similarity and whether or not they judge something to be in a category or not by changing"
   ]
  },
  {
   "cell_type": "markdown",
   "metadata": {},
   "source": [
    "### Classical Theory of Concepts ###"
   ]
  },
  {
   "cell_type": "markdown",
   "metadata": {},
   "source": [
    "* A concept is a mental definition (≠ dictionary definition, bc they are synonyms) \n",
    "* Mental definition: A feature list which is the set of both sufficient an necessary conditions \n",
    "    * ESSENCE - the complete set of sufficient and necessary condition \n",
    "* 1) The meaning of the concept can be captured by a conjunctive list of features\n",
    "    * Conjunctive = “and” “but” \n",
    "* 2) Has to bottom up to atomic features \n",
    "    * When you break it down you have to be able to break it down into something that can’t be broken down anymore \n",
    "* 3) Each feature is individually necessary and all is jointly sufficient \n",
    "    * If you hit all of the features you’re a member of the category \n",
    "* 4) What is and is not a member is clearly define \n",
    "    * Be able to give a very clear definition \n",
    "* 5) All of the members of the category are equally representative \n",
    "    * Anything is equally good examples \n",
    "* 6) When you organize these thing into a hierarchy (taxonomic) the subordinate definition include the definition of the superordinate \n",
    "    * Superordinate: Over category ex: animal \n",
    "    * Subordinate: Beneath, other categories ex: mammals \n",
    "    * The subordinate has to include the feature list of the superordinate \n",
    "* You’re a part of this process or not \n",
    "    * Answers the problem, which features is the relevant ones \n",
    "        * Explains why we can find things synonymous \n",
    "    * Due to how the atomic pieces (primitives) form together it explains our productivity \n",
    "        * Amazing how many sentences we can spontaneously utter and understand \n",
    "            * We do not presume the way that we understand the sentence but instead we can use the pieces of the sentence and put it together to understand it \n",
    "    * Finite limit of rules, primitives \n",
    "    * Compositionality:  Combine series and ideas \n",
    "* Problems\n",
    "    * Lack of essence \n",
    "        * Concept seem to differ to different people \n",
    "        * It seems a lot of things aren’t easily definable \n",
    "        * 1) Lots of our concept don’t seem to want to fit into a easy feature list \n",
    "            * Ex: games \n",
    "            * \"Family Resemblance” -  (proposed)\n",
    "            * Look alike, not identical - overlapping lack of traits \n",
    "        * 2) Every member is equally good \n",
    "            * If you actually ask people to verify they will have a preference \n",
    "        * 3) You get other problems with membership \n",
    "            * Intransitivity (not being able to follow through) \n",
    "                * Car Seats-> chairs -> furniture\n",
    "        * Classical theory of concepts is wrong\n",
    "            * proposes prototype theory --> Rosche\n"
   ]
  },
  {
   "cell_type": "markdown",
   "metadata": {},
   "source": [
    "## Prototype Theory - Rosche ##"
   ]
  },
  {
   "cell_type": "markdown",
   "metadata": {},
   "source": [
    "* This is a list of concepts weighted by their fundamental typicality.\n",
    "    * Further explains how things are similar or dissimilar to each other\n",
    "        * Prelude from the classical theory of concepts\n",
    "    * 1. Every category has its own prototype\n",
    "    * 2. There are no boundaries in terms of what should be in a category or not.\n",
    "    * 3. There are no specific conditions in terms of membership of category.\n",
    "    * 4. Instances of similarity are judged in terms of typicality to relativity\n",
    "    * 5. Membership in the category is determined by similarity to the prototype’\n",
    "        * This explains why we may not find a definite standard in terms of grouping elements together to form an association, thus, making it hard to convince other people who take the other side of an argument as each side perceives the opposite argument as nonsense. \n",
    "        * Fuzzy logic. This happens because the opposite side arguments do not match the similarity concept that each side is having in mind when they are arguing.\n",
    "* Critique:\n",
    "    * The fact that there are no specific boundaries requires us to group everything into an infinite category and how do we classify prototypes that matches which category to the other, which links back to the similarity we problem we discussed above\n",
    "    * Gestalt states that the small particle forms the larger part of elements. \n",
    "    * We connect this with the typicality gradient, where people cannot define a definite standard of choosing typicality, as this depends on each individual’s perception, judgement, and the number of traits. In other words, there is no direct literal correlation gradient; rather it is a very complex thing that cannot be generalised. Even though we may have a lot of feature lists of typical elements, we cannot assume that these are separable directly, which makes this into an infinite regression."
   ]
  },
  {
   "cell_type": "markdown",
   "metadata": {},
   "source": [
    "## Microtheory of Concepts ##"
   ]
  },
  {
   "cell_type": "markdown",
   "metadata": {},
   "source": [
    "* The mind deals with concepts, rather than definition. \n",
    "    * Although theories are inside our “minds”, they aren’t necessarily “tested” to fit in the real life world surroundings. \n",
    "* This means, although individual concepts could be treated as different theories, it cannot be directly applied to the world. \n",
    "    * While acknowledging that the simplest form is always the best avoiding multiple entities, a combination of such could create an entirely different theory that could possibly be applied into something else that we have not thought of in the real life world. \n",
    "* Problem:\n",
    "    * We don’t necessarily know where these theories come from, as theories are not ideas that randomly pop into our heads. If we do not know where these theories come from, we don’t necessarily have an idea where this is made of, and where did the specific concept we came up with originated from. \n",
    "    * We may assume that it is probably what a specific being had thought of such, and developed a common ground theory. However, here comes the Purity code proposed by Mary Douglas, where different cultures and backgrounds have an effect in terms of interpretation of concepts, which kills the possibility of having a mutual commonground for everyone when developing theories. \n",
    "    * For example, if we want to develop a general theory where hair is dirty, some people may argue while hair is on our heads it is not dirty, if that hair falls elsewhere out of your head, then it is considered dirty. Other people might say “why? it is still hair..just because it has fallen into another location it does not mean it is dirty.” \n",
    "    * This is not an exception for real life, as in courses such as culture. When we discuss arguments in terms of ethics, we may find practises found in other cultures to be seen as inhumane and savage, whereas to the people who practise it, it may not be seen in such way. \n",
    "        * Therefore, if we try to argue this against those people, the argument will never end, as we are inclined to our own perspective of culture, and so does the same thing applied to them. This is analogous to synaptic integration, as in order to actively engage theories together and interpret them together, we need to integrate many ideas as possible. \n",
    "        * If this is not present due to our purity code, then there is a huge problem of what we try to accomplish in the end, which is integrating everything together."
   ]
  },
  {
   "cell_type": "markdown",
   "metadata": {},
   "source": [
    "## Resemblance Theory ##"
   ]
  },
  {
   "cell_type": "markdown",
   "metadata": {},
   "source": [
    "* Resemblance judgement\n",
    "    * Why putting something is not necessarily?\n",
    "* Traverskys formula\n",
    "    * How things are similar\n",
    "        * Before we directly proceed with this and put into an immediate judge, we must look at the salience function.\n",
    "            * how contextually do things stand out? - this is determined by our own interpretation of the real life world\n",
    "            * Description depends on each of our perceptions and cultural backgrounds\n",
    "            * Due to this , this leads us to infinite regress in terms of what is similar and what is not\n",
    "            * This comes to a conclusion why simply putting things together in a description does not necessarily imply that it is formalised into a definition.\n",
    "                *→ i can describe many phenomenons that happen during a science experiment but if i cannot make a formalised connection get a meaningful result, then it is useless.\n",
    "* Smith responds: Dealing with two different forms. There are reasons based categorization based on rules and similarity \n",
    "* Rips responds: [Double dissociation] Experimental design\n",
    "    * Smith proposing similarity drive categorization (casual)  \n",
    "    * Intended to distinguish causation from correlation \n",
    "    * All kinds of correlation but we need to be able to intervene more effective with causation \n",
    "        * If changing one variable doesn’t change another there is a reason to believe they have no causation \n",
    "        * Can be similar but not in the same category \n",
    "    * Assessment of similarity and whether or not they judge something to be in a category or not by changing\n",
    "* Smith responds: There are features on one hand and there is knowledge and belief in another \n",
    "    * Being able to pick up these tiny features is important\n",
    "    * One is perceptual and the other is non-perceptual (visible vs. Invisible) \n",
    "        * Not clear how distinction work \n",
    "\n",
    "\n"
   ]
  },
  {
   "cell_type": "markdown",
   "metadata": {},
   "source": [
    "## Memory ##"
   ]
  },
  {
   "cell_type": "markdown",
   "metadata": {},
   "source": [
    "* Method of loci\n",
    "    * imagine a certain space, go along the path and remember the items, and recall the items.\n",
    "* Imagining a space → Memory is not a reliable source of proof. \n",
    "    * Memory degrades as it gets older, recent memory is remembered in more detail\n",
    "* Older memories tend to become mixed up\n",
    "    * Example: In sexual assault, if the tv is running the news, when the victim could get the person on the news and the actual person responsible for the assault mixed up.\n",
    "    * I cannot recall what exactly happened on a specific day 10 years ago. Maybe I ate lunch and dinner, or maybe I just ate dinner. \n"
   ]
  }
 ],
 "metadata": {
  "kernelspec": {
   "display_name": "Python 3",
   "language": "python",
   "name": "python3"
  },
  "language_info": {
   "codemirror_mode": {
    "name": "ipython",
    "version": 3
   },
   "file_extension": ".py",
   "mimetype": "text/x-python",
   "name": "python",
   "nbconvert_exporter": "python",
   "pygments_lexer": "ipython3",
   "version": "3.6.2"
  }
 },
 "nbformat": 4,
 "nbformat_minor": 2
}
